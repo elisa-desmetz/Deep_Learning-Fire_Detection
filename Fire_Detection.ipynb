{
  "nbformat": 4,
  "nbformat_minor": 0,
  "metadata": {
    "colab": {
      "name": "Fire_Detection.ipynb",
      "provenance": [],
      "mount_file_id": "1xpNjtSg_-i_xeM57PM7ZjK69MreusxeA",
      "authorship_tag": "ABX9TyPcLJ+VD1458rO7FwjsI3KI",
      "include_colab_link": true
    },
    "kernelspec": {
      "name": "python3",
      "display_name": "Python 3"
    },
    "language_info": {
      "name": "python"
    },
    "accelerator": "GPU"
  },
  "cells": [
    {
      "cell_type": "markdown",
      "metadata": {
        "id": "view-in-github",
        "colab_type": "text"
      },
      "source": [
        "<a href=\"https://colab.research.google.com/github/elisa-desmetz/Deep_Learning-Fire_Detection/blob/master/Fire_Detection.ipynb\" target=\"_parent\"><img src=\"https://colab.research.google.com/assets/colab-badge.svg\" alt=\"Open In Colab\"/></a>"
      ]
    },
    {
      "cell_type": "markdown",
      "source": [
        "# Fire Detection - Computer vision\n",
        "\n",
        "Model detecting fire in images.\n",
        "\n",
        "Data from [Kaggle](https://www.kaggle.com/phylake1337/fire-dataset)"
      ],
      "metadata": {
        "id": "2EOgMChY-3_Y"
      }
    },
    {
      "cell_type": "code",
      "execution_count": null,
      "metadata": {
        "id": "KTPb_aDP3fRC"
      },
      "outputs": [],
      "source": [
        "path_drive = '/content/drive/MyDrive/fire_dataset'\n",
        "path_repo = './fire_dataset'"
      ]
    }
  ]
}